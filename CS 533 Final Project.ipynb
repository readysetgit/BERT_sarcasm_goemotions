{
 "cells": [
  {
   "cell_type": "code",
   "execution_count": null,
   "id": "8a828ae6",
   "metadata": {},
   "outputs": [],
   "source": [
    "import pandas as pd"
   ]
  },
  {
   "cell_type": "code",
   "execution_count": null,
   "id": "127bc759",
   "metadata": {},
   "outputs": [],
   "source": [
    "MODEL = \"distilbert-base-uncased\"\n",
    "BATCH_SIZE = 4"
   ]
  },
  {
   "cell_type": "code",
   "execution_count": 105,
   "id": "5232f85f",
   "metadata": {},
   "outputs": [],
   "source": [
    "columns=[\"label\", \"text\", \"author\", \"subreddit\", \"score\", \"ups\", \"downs\", \"date\", \"created_utc\", \"parent_comment\"]\n",
    "train_data_df = pd.read_csv(\"train-balanced.csv\", delimiter=\"\\t\", names=columns, header=None)\n",
    "test_data_df = pd.read_csv(\"test-balanced.csv\", delimiter=\"\\t\", names=columns, header=None)\n",
    "\n",
    "train_data_df.drop(columns=[\"author\", \"subreddit\", \"score\", \"ups\", \"downs\", \"date\", \"created_utc\", \"parent_comment\"],axis=1, inplace=True)\n",
    "test_data_df.drop(columns=[\"author\", \"subreddit\", \"score\", \"ups\", \"downs\", \"date\", \"created_utc\", \"parent_comment\"],axis=1, inplace=True)"
   ]
  },
  {
   "cell_type": "code",
   "execution_count": 106,
   "id": "9b53159b",
   "metadata": {},
   "outputs": [],
   "source": [
    "train_data_df = train_data_df.dropna()\n",
    "test_data_df = test_data_df.dropna()"
   ]
  },
  {
   "cell_type": "code",
   "execution_count": 115,
   "id": "383dd282",
   "metadata": {},
   "outputs": [],
   "source": [
    "train_data_df.to_csv(\"train.csv\", sep='\\t')"
   ]
  },
  {
   "cell_type": "code",
   "execution_count": 116,
   "id": "39da8bf1",
   "metadata": {},
   "outputs": [],
   "source": [
    "test_data_df.to_csv(\"test.csv\", sep='\\t')"
   ]
  },
  {
   "cell_type": "code",
   "execution_count": 117,
   "id": "077faaba",
   "metadata": {},
   "outputs": [
    {
     "name": "stderr",
     "output_type": "stream",
     "text": [
      "Using custom data configuration default-322defad502acf09\n"
     ]
    },
    {
     "name": "stdout",
     "output_type": "stream",
     "text": [
      "Downloading and preparing dataset csv/default to C:\\Users\\fahad\\.cache\\huggingface\\datasets\\csv\\default-322defad502acf09\\0.0.0\\433e0ccc46f9880962cc2b12065189766fbb2bee57a221866138fb9203c83519...\n"
     ]
    },
    {
     "data": {
      "application/vnd.jupyter.widget-view+json": {
       "model_id": "c6754d63cfd241868d38fa636c87fbf9",
       "version_major": 2,
       "version_minor": 0
      },
      "text/plain": [
       "Downloading data files:   0%|          | 0/2 [00:00<?, ?it/s]"
      ]
     },
     "metadata": {},
     "output_type": "display_data"
    },
    {
     "data": {
      "application/vnd.jupyter.widget-view+json": {
       "model_id": "a95eb19a99e24e309c4107dd6370c1a0",
       "version_major": 2,
       "version_minor": 0
      },
      "text/plain": [
       "Extracting data files:   0%|          | 0/2 [00:00<?, ?it/s]"
      ]
     },
     "metadata": {},
     "output_type": "display_data"
    },
    {
     "name": "stdout",
     "output_type": "stream",
     "text": [
      "Dataset csv downloaded and prepared to C:\\Users\\fahad\\.cache\\huggingface\\datasets\\csv\\default-322defad502acf09\\0.0.0\\433e0ccc46f9880962cc2b12065189766fbb2bee57a221866138fb9203c83519. Subsequent calls will reuse this data.\n"
     ]
    },
    {
     "data": {
      "application/vnd.jupyter.widget-view+json": {
       "model_id": "e967005482b44b9f84835965ab52bea1",
       "version_major": 2,
       "version_minor": 0
      },
      "text/plain": [
       "  0%|          | 0/2 [00:00<?, ?it/s]"
      ]
     },
     "metadata": {},
     "output_type": "display_data"
    }
   ],
   "source": [
    "from datasets import load_dataset\n",
    "# sarc_train = load_dataset('csv', data_files=['train-balanced.csv'], delimiter=\",\", split=\"train\",on_bad_lines='skip')\n",
    "# print(sarc_train[0])\n",
    "# columns=[\"label\", \"text\", \"author\", \"subreddit\", \"score\", \"ups\", \"downs\", \"date\", \"created_utc\", \"parent_comment\"]\n",
    "columns=[\"label\", \"text\"]\n",
    "\n",
    "data_files = {\"train\": \"train.csv\", \"test\": \"test.csv\"}\n",
    "dataset = load_dataset('csv',data_files=data_files, delimiter=\"\\t\",column_names=columns, )"
   ]
  },
  {
   "cell_type": "code",
   "execution_count": null,
   "id": "33b8a49e",
   "metadata": {},
   "outputs": [],
   "source": [
    "# dataset = dataset.remove_columns([\"author\", \"subreddit\", \"score\", \"ups\", \"downs\", \"date\", \"created_utc\", \"parent_comment\"])"
   ]
  },
  {
   "cell_type": "code",
   "execution_count": 118,
   "id": "ebfcd635",
   "metadata": {},
   "outputs": [
    {
     "data": {
      "text/plain": [
       "'But blacking out is fun'"
      ]
     },
     "execution_count": 118,
     "metadata": {},
     "output_type": "execute_result"
    }
   ],
   "source": [
    "dataset[\"train\"][35431][\"text\"]"
   ]
  },
  {
   "cell_type": "code",
   "execution_count": null,
   "id": "e4e7d551",
   "metadata": {},
   "outputs": [],
   "source": []
  },
  {
   "cell_type": "code",
   "execution_count": 119,
   "id": "d7185451",
   "metadata": {},
   "outputs": [],
   "source": [
    "from transformers import AutoTokenizer\n",
    "\n",
    "tokenizer = AutoTokenizer.from_pretrained(MODEL)"
   ]
  },
  {
   "cell_type": "code",
   "execution_count": 120,
   "id": "2bf69cd9",
   "metadata": {},
   "outputs": [],
   "source": [
    "def preprocess_function(examples):\n",
    "    try:\n",
    "        return tokenizer(examples[\"text\"], truncation=True)\n",
    "    except TypeError as t:\n",
    "        for idx, item in enumerate(examples['text']):\n",
    "            if not isinstance(item, str):\n",
    "                print(idx - 1, examples['text'][idx - 1])\n",
    "                print(idx, item)\n",
    "                print(idx + 1, examples['text'][idx + 1])\n",
    "            \n",
    "        #print(*examples[\"text\"])\n",
    "        raise t"
   ]
  },
  {
   "cell_type": "code",
   "execution_count": 121,
   "id": "a27c28fb",
   "metadata": {},
   "outputs": [
    {
     "data": {
      "text/plain": [
       "{'input_ids': [101, 3231, 102], 'attention_mask': [1, 1, 1]}"
      ]
     },
     "execution_count": 121,
     "metadata": {},
     "output_type": "execute_result"
    }
   ],
   "source": [
    "tokenizer(\"test\", truncation=True)"
   ]
  },
  {
   "cell_type": "code",
   "execution_count": null,
   "id": "96292ebb",
   "metadata": {
    "scrolled": false
   },
   "outputs": [
    {
     "data": {
      "application/vnd.jupyter.widget-view+json": {
       "model_id": "bc795af0686f4f20a33736868fb30133",
       "version_major": 2,
       "version_minor": 0
      },
      "text/plain": [
       "  0%|          | 0/1126 [00:00<?, ?ba/s]"
      ]
     },
     "metadata": {},
     "output_type": "display_data"
    }
   ],
   "source": [
    "tokenized_dataset = dataset.map(preprocess_function, batched=True, disable_nullable=True)"
   ]
  },
  {
   "cell_type": "code",
   "execution_count": null,
   "id": "8abe4c0b",
   "metadata": {},
   "outputs": [],
   "source": [
    "from transformers import DataCollatorWithPadding\n",
    "\n",
    "data_collator = DataCollatorWithPadding(tokenizer=tokenizer)"
   ]
  },
  {
   "cell_type": "code",
   "execution_count": null,
   "id": "4dbc9275",
   "metadata": {},
   "outputs": [],
   "source": [
    "from transformers import AutoModelForSequenceClassification\n",
    "\n",
    "model = AutoModelForSequenceClassification.from_pretrained(MODEL, num_labels=2)"
   ]
  },
  {
   "cell_type": "code",
   "execution_count": null,
   "id": "42af3cfa",
   "metadata": {},
   "outputs": [],
   "source": [
    "from transformers import TrainingArguments, Trainer\n",
    "from os import path\n",
    "\n",
    "output_dir_path = path.join(\"results\")\n",
    "training_args = TrainingArguments(\n",
    "    output_dir = output_dir_path,\n",
    "    learning_rate=2e-5,\n",
    "    per_device_train_batch_size=BATCH_SIZE,\n",
    "    per_device_eval_batch_size=BATCH_SIZE,\n",
    "    num_train_epochs=5,\n",
    "    weight_decay=0.01,\n",
    ")\n",
    "\n",
    "trainer = Trainer(\n",
    "    model=model,\n",
    "    args=training_args,\n",
    "    train_dataset=tokenized_dataset[\"train\"],\n",
    "    eval_dataset=tokenized_dataset[\"test\"],\n",
    "    tokenizer=tokenizer,\n",
    "    data_collator=data_collator,\n",
    ")\n",
    "\n",
    "trainer.train()"
   ]
  },
  {
   "cell_type": "code",
   "execution_count": null,
   "id": "7f954453",
   "metadata": {},
   "outputs": [],
   "source": []
  },
  {
   "cell_type": "code",
   "execution_count": null,
   "id": "a244e832",
   "metadata": {},
   "outputs": [],
   "source": []
  },
  {
   "cell_type": "code",
   "execution_count": null,
   "id": "c9beafbf",
   "metadata": {},
   "outputs": [],
   "source": []
  }
 ],
 "metadata": {
  "kernelspec": {
   "display_name": "Python 3 (ipykernel)",
   "language": "python",
   "name": "python3"
  },
  "language_info": {
   "codemirror_mode": {
    "name": "ipython",
    "version": 3
   },
   "file_extension": ".py",
   "mimetype": "text/x-python",
   "name": "python",
   "nbconvert_exporter": "python",
   "pygments_lexer": "ipython3",
   "version": "3.7.8"
  }
 },
 "nbformat": 4,
 "nbformat_minor": 5
}
